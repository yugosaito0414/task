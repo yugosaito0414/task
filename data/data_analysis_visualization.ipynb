{
 "cells": [
  {
   "cell_type": "markdown",
   "metadata": {
    "id": "uKmjIf6HsTkv"
   },
   "source": [
    "モジュールのインポート"
   ]
  },
  {
   "cell_type": "code",
   "execution_count": 26,
   "metadata": {
    "colab": {
     "base_uri": "https://localhost:8080/"
    },
    "id": "Bi2w4c_gb6oI",
    "outputId": "423b783c-e3a2-4a6e-c00c-1eeaee217f5a"
   },
   "outputs": [
    {
     "data": {
      "text/plain": [
       "<pandas.io.excel._base.ExcelFile at 0x7f8ce9619c60>"
      ]
     },
     "execution_count": 26,
     "metadata": {},
     "output_type": "execute_result"
    }
   ],
   "source": [
    "import pandas as pd\n",
    "import matplotlib.pyplot as plt\n",
    "import seaborn as sns\n",
    "import warnings\n",
    "from matplotlib import MatplotlibDeprecationWarning\n",
    "warnings.filterwarnings('ignore', category=MatplotlibDeprecationWarning)\n",
    "\n",
    "input_book = pd.ExcelFile('data_task.xlsx')\n",
    "input_book"
   ]
  },
  {
   "cell_type": "markdown",
   "metadata": {
    "id": "rASl_lS-sXoU"
   },
   "source": [
    "データセットの読み込み"
   ]
  },
  {
   "cell_type": "code",
   "execution_count": 6,
   "metadata": {
    "colab": {
     "base_uri": "https://localhost:8080/",
     "height": 520
    },
    "id": "KsOQSHf8eDk0",
    "outputId": "f512c4c1-e790-495d-cdf3-e820c6f26458"
   },
   "outputs": [
    {
     "data": {
      "text/html": [
       "<div>\n",
       "<style scoped>\n",
       "    .dataframe tbody tr th:only-of-type {\n",
       "        vertical-align: middle;\n",
       "    }\n",
       "\n",
       "    .dataframe tbody tr th {\n",
       "        vertical-align: top;\n",
       "    }\n",
       "\n",
       "    .dataframe thead th {\n",
       "        text-align: right;\n",
       "    }\n",
       "</style>\n",
       "<table border=\"1\" class=\"dataframe\">\n",
       "  <thead>\n",
       "    <tr style=\"text-align: right;\">\n",
       "      <th></th>\n",
       "      <th>Unnamed: 0</th>\n",
       "      <th>Unnamed: 1</th>\n",
       "      <th>Unnamed: 2</th>\n",
       "      <th>Unnamed: 3</th>\n",
       "      <th>Unnamed: 4</th>\n",
       "      <th>Unnamed: 5</th>\n",
       "      <th>Unnamed: 6</th>\n",
       "      <th>Unnamed: 7</th>\n",
       "      <th>Unnamed: 8</th>\n",
       "      <th>Unnamed: 9</th>\n",
       "    </tr>\n",
       "  </thead>\n",
       "  <tbody>\n",
       "    <tr>\n",
       "      <th>0</th>\n",
       "      <td>NaN</td>\n",
       "      <td>NaN</td>\n",
       "      <td>NaN</td>\n",
       "      <td>NaN</td>\n",
       "      <td>NaN</td>\n",
       "      <td>NaN</td>\n",
       "      <td>NaN</td>\n",
       "      <td>NaN</td>\n",
       "      <td>NaN</td>\n",
       "      <td>NaN</td>\n",
       "    </tr>\n",
       "    <tr>\n",
       "      <th>1</th>\n",
       "      <td>NaN</td>\n",
       "      <td>NaN</td>\n",
       "      <td>NaN</td>\n",
       "      <td>NaN</td>\n",
       "      <td>NaN</td>\n",
       "      <td>NaN</td>\n",
       "      <td>NaN</td>\n",
       "      <td>NaN</td>\n",
       "      <td>NaN</td>\n",
       "      <td>NaN</td>\n",
       "    </tr>\n",
       "    <tr>\n",
       "      <th>2</th>\n",
       "      <td>NaN</td>\n",
       "      <td>NaN</td>\n",
       "      <td>NaN</td>\n",
       "      <td>NaN</td>\n",
       "      <td>NaN</td>\n",
       "      <td>NaN</td>\n",
       "      <td>NaN</td>\n",
       "      <td>NaN</td>\n",
       "      <td>NaN</td>\n",
       "      <td>NaN</td>\n",
       "    </tr>\n",
       "    <tr>\n",
       "      <th>3</th>\n",
       "      <td>NaN</td>\n",
       "      <td>NaN</td>\n",
       "      <td>ID</td>\n",
       "      <td>Department</td>\n",
       "      <td>Age</td>\n",
       "      <td>Salary (JPY / yr)</td>\n",
       "      <td>Years_of_Service</td>\n",
       "      <td>Job_Satisfaction</td>\n",
       "      <td>Is_Promoted</td>\n",
       "      <td>Is_Left</td>\n",
       "    </tr>\n",
       "    <tr>\n",
       "      <th>4</th>\n",
       "      <td>NaN</td>\n",
       "      <td>NaN</td>\n",
       "      <td>1</td>\n",
       "      <td>Sales Division</td>\n",
       "      <td>21</td>\n",
       "      <td>5000000</td>\n",
       "      <td>1</td>\n",
       "      <td>3</td>\n",
       "      <td>0</td>\n",
       "      <td>0</td>\n",
       "    </tr>\n",
       "    <tr>\n",
       "      <th>...</th>\n",
       "      <td>...</td>\n",
       "      <td>...</td>\n",
       "      <td>...</td>\n",
       "      <td>...</td>\n",
       "      <td>...</td>\n",
       "      <td>...</td>\n",
       "      <td>...</td>\n",
       "      <td>...</td>\n",
       "      <td>...</td>\n",
       "      <td>...</td>\n",
       "    </tr>\n",
       "    <tr>\n",
       "      <th>199</th>\n",
       "      <td>NaN</td>\n",
       "      <td>NaN</td>\n",
       "      <td>196</td>\n",
       "      <td>Back Office</td>\n",
       "      <td>37</td>\n",
       "      <td>6700000</td>\n",
       "      <td>7</td>\n",
       "      <td>5</td>\n",
       "      <td>0</td>\n",
       "      <td>0</td>\n",
       "    </tr>\n",
       "    <tr>\n",
       "      <th>200</th>\n",
       "      <td>NaN</td>\n",
       "      <td>NaN</td>\n",
       "      <td>197</td>\n",
       "      <td>Back Office</td>\n",
       "      <td>29</td>\n",
       "      <td>6200000</td>\n",
       "      <td>1</td>\n",
       "      <td>4</td>\n",
       "      <td>0</td>\n",
       "      <td>0</td>\n",
       "    </tr>\n",
       "    <tr>\n",
       "      <th>201</th>\n",
       "      <td>NaN</td>\n",
       "      <td>NaN</td>\n",
       "      <td>198</td>\n",
       "      <td>Back Office</td>\n",
       "      <td>35</td>\n",
       "      <td>6600000</td>\n",
       "      <td>5</td>\n",
       "      <td>5</td>\n",
       "      <td>0</td>\n",
       "      <td>0</td>\n",
       "    </tr>\n",
       "    <tr>\n",
       "      <th>202</th>\n",
       "      <td>NaN</td>\n",
       "      <td>NaN</td>\n",
       "      <td>199</td>\n",
       "      <td>Back Office</td>\n",
       "      <td>40</td>\n",
       "      <td>7000000</td>\n",
       "      <td>10</td>\n",
       "      <td>4</td>\n",
       "      <td>1</td>\n",
       "      <td>0</td>\n",
       "    </tr>\n",
       "    <tr>\n",
       "      <th>203</th>\n",
       "      <td>NaN</td>\n",
       "      <td>NaN</td>\n",
       "      <td>200</td>\n",
       "      <td>Back Office</td>\n",
       "      <td>45</td>\n",
       "      <td>7400000</td>\n",
       "      <td>15</td>\n",
       "      <td>5</td>\n",
       "      <td>1</td>\n",
       "      <td>0</td>\n",
       "    </tr>\n",
       "  </tbody>\n",
       "</table>\n",
       "<p>204 rows × 10 columns</p>\n",
       "</div>"
      ],
      "text/plain": [
       "     Unnamed: 0  Unnamed: 1 Unnamed: 2      Unnamed: 3 Unnamed: 4  \\\n",
       "0           NaN         NaN        NaN             NaN        NaN   \n",
       "1           NaN         NaN        NaN             NaN        NaN   \n",
       "2           NaN         NaN        NaN             NaN        NaN   \n",
       "3           NaN         NaN         ID      Department        Age   \n",
       "4           NaN         NaN          1  Sales Division         21   \n",
       "..          ...         ...        ...             ...        ...   \n",
       "199         NaN         NaN        196     Back Office         37   \n",
       "200         NaN         NaN        197     Back Office         29   \n",
       "201         NaN         NaN        198     Back Office         35   \n",
       "202         NaN         NaN        199     Back Office         40   \n",
       "203         NaN         NaN        200     Back Office         45   \n",
       "\n",
       "            Unnamed: 5        Unnamed: 6        Unnamed: 7   Unnamed: 8  \\\n",
       "0                  NaN               NaN               NaN          NaN   \n",
       "1                  NaN               NaN               NaN          NaN   \n",
       "2                  NaN               NaN               NaN          NaN   \n",
       "3    Salary (JPY / yr)  Years_of_Service  Job_Satisfaction  Is_Promoted   \n",
       "4              5000000                 1                 3            0   \n",
       "..                 ...               ...               ...          ...   \n",
       "199            6700000                 7                 5            0   \n",
       "200            6200000                 1                 4            0   \n",
       "201            6600000                 5                 5            0   \n",
       "202            7000000                10                 4            1   \n",
       "203            7400000                15                 5            1   \n",
       "\n",
       "    Unnamed: 9  \n",
       "0          NaN  \n",
       "1          NaN  \n",
       "2          NaN  \n",
       "3      Is_Left  \n",
       "4            0  \n",
       "..         ...  \n",
       "199          0  \n",
       "200          0  \n",
       "201          0  \n",
       "202          0  \n",
       "203          0  \n",
       "\n",
       "[204 rows x 10 columns]"
      ]
     },
     "execution_count": 6,
     "metadata": {},
     "output_type": "execute_result"
    }
   ],
   "source": [
    "_df = pd.read_excel(input_book)\n",
    "\n",
    "_df"
   ]
  },
  {
   "cell_type": "markdown",
   "metadata": {
    "id": "JZKPqm7nsdm8"
   },
   "source": [
    "データクリーニング"
   ]
  },
  {
   "cell_type": "code",
   "execution_count": 7,
   "metadata": {
    "colab": {
     "base_uri": "https://localhost:8080/"
    },
    "id": "X4dxaSx7cFj9",
    "outputId": "4bfd7039-58ab-4e72-c218-1be8c62c23d7"
   },
   "outputs": [
    {
     "data": {
      "text/plain": [
       "Unnamed: 2                   ID\n",
       "Unnamed: 3           Department\n",
       "Unnamed: 4                  Age\n",
       "Unnamed: 5    Salary (JPY / yr)\n",
       "Unnamed: 6     Years_of_Service\n",
       "Unnamed: 7     Job_Satisfaction\n",
       "Unnamed: 8          Is_Promoted\n",
       "Unnamed: 9              Is_Left\n",
       "Name: 3, dtype: object"
      ]
     },
     "execution_count": 7,
     "metadata": {},
     "output_type": "execute_result"
    }
   ],
   "source": [
    "columns = _df.iloc[3,2:10]\n",
    "columns"
   ]
  },
  {
   "cell_type": "code",
   "execution_count": 8,
   "metadata": {
    "colab": {
     "base_uri": "https://localhost:8080/",
     "height": 424
    },
    "id": "FzHo0IIicGLw",
    "outputId": "49a0d2d9-d0cd-4777-99de-a928f82cc06b"
   },
   "outputs": [
    {
     "data": {
      "text/html": [
       "<div>\n",
       "<style scoped>\n",
       "    .dataframe tbody tr th:only-of-type {\n",
       "        vertical-align: middle;\n",
       "    }\n",
       "\n",
       "    .dataframe tbody tr th {\n",
       "        vertical-align: top;\n",
       "    }\n",
       "\n",
       "    .dataframe thead th {\n",
       "        text-align: right;\n",
       "    }\n",
       "</style>\n",
       "<table border=\"1\" class=\"dataframe\">\n",
       "  <thead>\n",
       "    <tr style=\"text-align: right;\">\n",
       "      <th></th>\n",
       "      <th>Unnamed: 2</th>\n",
       "      <th>Unnamed: 3</th>\n",
       "      <th>Unnamed: 4</th>\n",
       "      <th>Unnamed: 5</th>\n",
       "      <th>Unnamed: 6</th>\n",
       "      <th>Unnamed: 7</th>\n",
       "      <th>Unnamed: 8</th>\n",
       "      <th>Unnamed: 9</th>\n",
       "    </tr>\n",
       "  </thead>\n",
       "  <tbody>\n",
       "    <tr>\n",
       "      <th>4</th>\n",
       "      <td>1</td>\n",
       "      <td>Sales Division</td>\n",
       "      <td>21</td>\n",
       "      <td>5000000</td>\n",
       "      <td>1</td>\n",
       "      <td>3</td>\n",
       "      <td>0</td>\n",
       "      <td>0</td>\n",
       "    </tr>\n",
       "    <tr>\n",
       "      <th>5</th>\n",
       "      <td>2</td>\n",
       "      <td>Sales Division</td>\n",
       "      <td>24</td>\n",
       "      <td>5200000</td>\n",
       "      <td>3</td>\n",
       "      <td>2</td>\n",
       "      <td>0</td>\n",
       "      <td>1</td>\n",
       "    </tr>\n",
       "    <tr>\n",
       "      <th>6</th>\n",
       "      <td>3</td>\n",
       "      <td>Sales Division</td>\n",
       "      <td>26</td>\n",
       "      <td>5300000</td>\n",
       "      <td>2</td>\n",
       "      <td>3</td>\n",
       "      <td>0</td>\n",
       "      <td>0</td>\n",
       "    </tr>\n",
       "    <tr>\n",
       "      <th>7</th>\n",
       "      <td>4</td>\n",
       "      <td>Sales Division</td>\n",
       "      <td>30</td>\n",
       "      <td>5600000</td>\n",
       "      <td>6</td>\n",
       "      <td>4</td>\n",
       "      <td>1</td>\n",
       "      <td>0</td>\n",
       "    </tr>\n",
       "    <tr>\n",
       "      <th>8</th>\n",
       "      <td>5</td>\n",
       "      <td>Sales Division</td>\n",
       "      <td>34</td>\n",
       "      <td>6000000</td>\n",
       "      <td>8</td>\n",
       "      <td>2</td>\n",
       "      <td>0</td>\n",
       "      <td>1</td>\n",
       "    </tr>\n",
       "    <tr>\n",
       "      <th>...</th>\n",
       "      <td>...</td>\n",
       "      <td>...</td>\n",
       "      <td>...</td>\n",
       "      <td>...</td>\n",
       "      <td>...</td>\n",
       "      <td>...</td>\n",
       "      <td>...</td>\n",
       "      <td>...</td>\n",
       "    </tr>\n",
       "    <tr>\n",
       "      <th>199</th>\n",
       "      <td>196</td>\n",
       "      <td>Back Office</td>\n",
       "      <td>37</td>\n",
       "      <td>6700000</td>\n",
       "      <td>7</td>\n",
       "      <td>5</td>\n",
       "      <td>0</td>\n",
       "      <td>0</td>\n",
       "    </tr>\n",
       "    <tr>\n",
       "      <th>200</th>\n",
       "      <td>197</td>\n",
       "      <td>Back Office</td>\n",
       "      <td>29</td>\n",
       "      <td>6200000</td>\n",
       "      <td>1</td>\n",
       "      <td>4</td>\n",
       "      <td>0</td>\n",
       "      <td>0</td>\n",
       "    </tr>\n",
       "    <tr>\n",
       "      <th>201</th>\n",
       "      <td>198</td>\n",
       "      <td>Back Office</td>\n",
       "      <td>35</td>\n",
       "      <td>6600000</td>\n",
       "      <td>5</td>\n",
       "      <td>5</td>\n",
       "      <td>0</td>\n",
       "      <td>0</td>\n",
       "    </tr>\n",
       "    <tr>\n",
       "      <th>202</th>\n",
       "      <td>199</td>\n",
       "      <td>Back Office</td>\n",
       "      <td>40</td>\n",
       "      <td>7000000</td>\n",
       "      <td>10</td>\n",
       "      <td>4</td>\n",
       "      <td>1</td>\n",
       "      <td>0</td>\n",
       "    </tr>\n",
       "    <tr>\n",
       "      <th>203</th>\n",
       "      <td>200</td>\n",
       "      <td>Back Office</td>\n",
       "      <td>45</td>\n",
       "      <td>7400000</td>\n",
       "      <td>15</td>\n",
       "      <td>5</td>\n",
       "      <td>1</td>\n",
       "      <td>0</td>\n",
       "    </tr>\n",
       "  </tbody>\n",
       "</table>\n",
       "<p>200 rows × 8 columns</p>\n",
       "</div>"
      ],
      "text/plain": [
       "    Unnamed: 2      Unnamed: 3 Unnamed: 4 Unnamed: 5 Unnamed: 6 Unnamed: 7  \\\n",
       "4            1  Sales Division         21    5000000          1          3   \n",
       "5            2  Sales Division         24    5200000          3          2   \n",
       "6            3  Sales Division         26    5300000          2          3   \n",
       "7            4  Sales Division         30    5600000          6          4   \n",
       "8            5  Sales Division         34    6000000          8          2   \n",
       "..         ...             ...        ...        ...        ...        ...   \n",
       "199        196     Back Office         37    6700000          7          5   \n",
       "200        197     Back Office         29    6200000          1          4   \n",
       "201        198     Back Office         35    6600000          5          5   \n",
       "202        199     Back Office         40    7000000         10          4   \n",
       "203        200     Back Office         45    7400000         15          5   \n",
       "\n",
       "    Unnamed: 8 Unnamed: 9  \n",
       "4            0          0  \n",
       "5            0          1  \n",
       "6            0          0  \n",
       "7            1          0  \n",
       "8            0          1  \n",
       "..         ...        ...  \n",
       "199          0          0  \n",
       "200          0          0  \n",
       "201          0          0  \n",
       "202          1          0  \n",
       "203          1          0  \n",
       "\n",
       "[200 rows x 8 columns]"
      ]
     },
     "execution_count": 8,
     "metadata": {},
     "output_type": "execute_result"
    }
   ],
   "source": [
    "df = _df.iloc[4:204,2:10]\n",
    "df"
   ]
  },
  {
   "cell_type": "code",
   "execution_count": 9,
   "metadata": {
    "colab": {
     "base_uri": "https://localhost:8080/",
     "height": 424
    },
    "id": "yhxXQXgUcGN_",
    "outputId": "3913ddc1-1471-4e9f-ab35-513f861ccc1a",
    "scrolled": true
   },
   "outputs": [
    {
     "data": {
      "text/html": [
       "<div>\n",
       "<style scoped>\n",
       "    .dataframe tbody tr th:only-of-type {\n",
       "        vertical-align: middle;\n",
       "    }\n",
       "\n",
       "    .dataframe tbody tr th {\n",
       "        vertical-align: top;\n",
       "    }\n",
       "\n",
       "    .dataframe thead th {\n",
       "        text-align: right;\n",
       "    }\n",
       "</style>\n",
       "<table border=\"1\" class=\"dataframe\">\n",
       "  <thead>\n",
       "    <tr style=\"text-align: right;\">\n",
       "      <th>3</th>\n",
       "      <th>ID</th>\n",
       "      <th>Department</th>\n",
       "      <th>Age</th>\n",
       "      <th>Salary (JPY / yr)</th>\n",
       "      <th>Years_of_Service</th>\n",
       "      <th>Job_Satisfaction</th>\n",
       "      <th>Is_Promoted</th>\n",
       "      <th>Is_Left</th>\n",
       "    </tr>\n",
       "  </thead>\n",
       "  <tbody>\n",
       "    <tr>\n",
       "      <th>4</th>\n",
       "      <td>1</td>\n",
       "      <td>Sales Division</td>\n",
       "      <td>21</td>\n",
       "      <td>5000000</td>\n",
       "      <td>1</td>\n",
       "      <td>3</td>\n",
       "      <td>0</td>\n",
       "      <td>0</td>\n",
       "    </tr>\n",
       "    <tr>\n",
       "      <th>5</th>\n",
       "      <td>2</td>\n",
       "      <td>Sales Division</td>\n",
       "      <td>24</td>\n",
       "      <td>5200000</td>\n",
       "      <td>3</td>\n",
       "      <td>2</td>\n",
       "      <td>0</td>\n",
       "      <td>1</td>\n",
       "    </tr>\n",
       "    <tr>\n",
       "      <th>6</th>\n",
       "      <td>3</td>\n",
       "      <td>Sales Division</td>\n",
       "      <td>26</td>\n",
       "      <td>5300000</td>\n",
       "      <td>2</td>\n",
       "      <td>3</td>\n",
       "      <td>0</td>\n",
       "      <td>0</td>\n",
       "    </tr>\n",
       "    <tr>\n",
       "      <th>7</th>\n",
       "      <td>4</td>\n",
       "      <td>Sales Division</td>\n",
       "      <td>30</td>\n",
       "      <td>5600000</td>\n",
       "      <td>6</td>\n",
       "      <td>4</td>\n",
       "      <td>1</td>\n",
       "      <td>0</td>\n",
       "    </tr>\n",
       "    <tr>\n",
       "      <th>8</th>\n",
       "      <td>5</td>\n",
       "      <td>Sales Division</td>\n",
       "      <td>34</td>\n",
       "      <td>6000000</td>\n",
       "      <td>8</td>\n",
       "      <td>2</td>\n",
       "      <td>0</td>\n",
       "      <td>1</td>\n",
       "    </tr>\n",
       "    <tr>\n",
       "      <th>...</th>\n",
       "      <td>...</td>\n",
       "      <td>...</td>\n",
       "      <td>...</td>\n",
       "      <td>...</td>\n",
       "      <td>...</td>\n",
       "      <td>...</td>\n",
       "      <td>...</td>\n",
       "      <td>...</td>\n",
       "    </tr>\n",
       "    <tr>\n",
       "      <th>199</th>\n",
       "      <td>196</td>\n",
       "      <td>Back Office</td>\n",
       "      <td>37</td>\n",
       "      <td>6700000</td>\n",
       "      <td>7</td>\n",
       "      <td>5</td>\n",
       "      <td>0</td>\n",
       "      <td>0</td>\n",
       "    </tr>\n",
       "    <tr>\n",
       "      <th>200</th>\n",
       "      <td>197</td>\n",
       "      <td>Back Office</td>\n",
       "      <td>29</td>\n",
       "      <td>6200000</td>\n",
       "      <td>1</td>\n",
       "      <td>4</td>\n",
       "      <td>0</td>\n",
       "      <td>0</td>\n",
       "    </tr>\n",
       "    <tr>\n",
       "      <th>201</th>\n",
       "      <td>198</td>\n",
       "      <td>Back Office</td>\n",
       "      <td>35</td>\n",
       "      <td>6600000</td>\n",
       "      <td>5</td>\n",
       "      <td>5</td>\n",
       "      <td>0</td>\n",
       "      <td>0</td>\n",
       "    </tr>\n",
       "    <tr>\n",
       "      <th>202</th>\n",
       "      <td>199</td>\n",
       "      <td>Back Office</td>\n",
       "      <td>40</td>\n",
       "      <td>7000000</td>\n",
       "      <td>10</td>\n",
       "      <td>4</td>\n",
       "      <td>1</td>\n",
       "      <td>0</td>\n",
       "    </tr>\n",
       "    <tr>\n",
       "      <th>203</th>\n",
       "      <td>200</td>\n",
       "      <td>Back Office</td>\n",
       "      <td>45</td>\n",
       "      <td>7400000</td>\n",
       "      <td>15</td>\n",
       "      <td>5</td>\n",
       "      <td>1</td>\n",
       "      <td>0</td>\n",
       "    </tr>\n",
       "  </tbody>\n",
       "</table>\n",
       "<p>200 rows × 8 columns</p>\n",
       "</div>"
      ],
      "text/plain": [
       "3     ID      Department Age Salary (JPY / yr) Years_of_Service  \\\n",
       "4      1  Sales Division  21           5000000                1   \n",
       "5      2  Sales Division  24           5200000                3   \n",
       "6      3  Sales Division  26           5300000                2   \n",
       "7      4  Sales Division  30           5600000                6   \n",
       "8      5  Sales Division  34           6000000                8   \n",
       "..   ...             ...  ..               ...              ...   \n",
       "199  196     Back Office  37           6700000                7   \n",
       "200  197     Back Office  29           6200000                1   \n",
       "201  198     Back Office  35           6600000                5   \n",
       "202  199     Back Office  40           7000000               10   \n",
       "203  200     Back Office  45           7400000               15   \n",
       "\n",
       "3   Job_Satisfaction Is_Promoted Is_Left  \n",
       "4                  3           0       0  \n",
       "5                  2           0       1  \n",
       "6                  3           0       0  \n",
       "7                  4           1       0  \n",
       "8                  2           0       1  \n",
       "..               ...         ...     ...  \n",
       "199                5           0       0  \n",
       "200                4           0       0  \n",
       "201                5           0       0  \n",
       "202                4           1       0  \n",
       "203                5           1       0  \n",
       "\n",
       "[200 rows x 8 columns]"
      ]
     },
     "execution_count": 9,
     "metadata": {},
     "output_type": "execute_result"
    }
   ],
   "source": [
    "df.columns = columns\n",
    "\n",
    "df"
   ]
  },
  {
   "cell_type": "code",
   "execution_count": 10,
   "metadata": {
    "colab": {
     "base_uri": "https://localhost:8080/"
    },
    "id": "0ug18SK0cGRw",
    "outputId": "bad2624f-ddb3-4782-b730-3948c481f11d",
    "scrolled": false
   },
   "outputs": [
    {
     "name": "stdout",
     "output_type": "stream",
     "text": [
      "<class 'pandas.core.frame.DataFrame'>\n",
      "RangeIndex: 200 entries, 4 to 203\n",
      "Data columns (total 8 columns):\n",
      " #   Column             Non-Null Count  Dtype \n",
      "---  ------             --------------  ----- \n",
      " 0   ID                 200 non-null    object\n",
      " 1   Department         200 non-null    object\n",
      " 2   Age                200 non-null    object\n",
      " 3   Salary (JPY / yr)  200 non-null    object\n",
      " 4   Years_of_Service   200 non-null    object\n",
      " 5   Job_Satisfaction   200 non-null    object\n",
      " 6   Is_Promoted        200 non-null    object\n",
      " 7   Is_Left            200 non-null    object\n",
      "dtypes: object(8)\n",
      "memory usage: 12.6+ KB\n"
     ]
    }
   ],
   "source": [
    "df.info()"
   ]
  },
  {
   "cell_type": "code",
   "execution_count": 11,
   "metadata": {
    "id": "3LIwdi6scGUI"
   },
   "outputs": [],
   "source": [
    "df[\"ID\"] = df[\"ID\"].astype(int)\n",
    "df[\"Age\"] = df[\"Age\"].astype(int)\n",
    "df[\"Salary (JPY / yr)\"] = df[\"Salary (JPY / yr)\"].astype(int)\n",
    "df[\"Years_of_Service\"] = df[\"Years_of_Service\"].astype(int)\n",
    "df[\"Job_Satisfaction\"] = df[\"Job_Satisfaction\"].astype(int)\n",
    "df[\"Is_Promoted\"] = df[\"Is_Promoted\"].astype(int)\n",
    "df[\"Is_Left\"] = df[\"Is_Left\"].astype(int)"
   ]
  },
  {
   "cell_type": "code",
   "execution_count": 12,
   "metadata": {
    "colab": {
     "base_uri": "https://localhost:8080/"
    },
    "id": "EGjvkvXlcGaZ",
    "outputId": "fd1becd0-ddbc-45cc-b034-4890ff985c31"
   },
   "outputs": [
    {
     "name": "stdout",
     "output_type": "stream",
     "text": [
      "<class 'pandas.core.frame.DataFrame'>\n",
      "RangeIndex: 200 entries, 4 to 203\n",
      "Data columns (total 8 columns):\n",
      " #   Column             Non-Null Count  Dtype \n",
      "---  ------             --------------  ----- \n",
      " 0   ID                 200 non-null    int64 \n",
      " 1   Department         200 non-null    object\n",
      " 2   Age                200 non-null    int64 \n",
      " 3   Salary (JPY / yr)  200 non-null    int64 \n",
      " 4   Years_of_Service   200 non-null    int64 \n",
      " 5   Job_Satisfaction   200 non-null    int64 \n",
      " 6   Is_Promoted        200 non-null    int64 \n",
      " 7   Is_Left            200 non-null    int64 \n",
      "dtypes: int64(7), object(1)\n",
      "memory usage: 12.6+ KB\n"
     ]
    }
   ],
   "source": [
    "df.info()"
   ]
  },
  {
   "cell_type": "code",
   "execution_count": 13,
   "metadata": {
    "colab": {
     "base_uri": "https://localhost:8080/",
     "height": 206
    },
    "id": "BeZBPbDypM1l",
    "outputId": "cbd666b7-436d-4f99-fa90-d2384d1f0787"
   },
   "outputs": [
    {
     "data": {
      "text/html": [
       "<div>\n",
       "<style scoped>\n",
       "    .dataframe tbody tr th:only-of-type {\n",
       "        vertical-align: middle;\n",
       "    }\n",
       "\n",
       "    .dataframe tbody tr th {\n",
       "        vertical-align: top;\n",
       "    }\n",
       "\n",
       "    .dataframe thead th {\n",
       "        text-align: right;\n",
       "    }\n",
       "</style>\n",
       "<table border=\"1\" class=\"dataframe\">\n",
       "  <thead>\n",
       "    <tr style=\"text-align: right;\">\n",
       "      <th>3</th>\n",
       "      <th>ID</th>\n",
       "      <th>Department</th>\n",
       "      <th>Age</th>\n",
       "      <th>Salary (JPY / yr)</th>\n",
       "      <th>Years_of_Service</th>\n",
       "      <th>Job_Satisfaction</th>\n",
       "      <th>Is_Promoted</th>\n",
       "      <th>Is_Left</th>\n",
       "    </tr>\n",
       "  </thead>\n",
       "  <tbody>\n",
       "    <tr>\n",
       "      <th>4</th>\n",
       "      <td>1</td>\n",
       "      <td>Sales Division</td>\n",
       "      <td>21</td>\n",
       "      <td>5000000</td>\n",
       "      <td>1</td>\n",
       "      <td>3</td>\n",
       "      <td>0</td>\n",
       "      <td>0</td>\n",
       "    </tr>\n",
       "    <tr>\n",
       "      <th>5</th>\n",
       "      <td>2</td>\n",
       "      <td>Sales Division</td>\n",
       "      <td>24</td>\n",
       "      <td>5200000</td>\n",
       "      <td>3</td>\n",
       "      <td>2</td>\n",
       "      <td>0</td>\n",
       "      <td>1</td>\n",
       "    </tr>\n",
       "    <tr>\n",
       "      <th>6</th>\n",
       "      <td>3</td>\n",
       "      <td>Sales Division</td>\n",
       "      <td>26</td>\n",
       "      <td>5300000</td>\n",
       "      <td>2</td>\n",
       "      <td>3</td>\n",
       "      <td>0</td>\n",
       "      <td>0</td>\n",
       "    </tr>\n",
       "    <tr>\n",
       "      <th>7</th>\n",
       "      <td>4</td>\n",
       "      <td>Sales Division</td>\n",
       "      <td>30</td>\n",
       "      <td>5600000</td>\n",
       "      <td>6</td>\n",
       "      <td>4</td>\n",
       "      <td>1</td>\n",
       "      <td>0</td>\n",
       "    </tr>\n",
       "    <tr>\n",
       "      <th>8</th>\n",
       "      <td>5</td>\n",
       "      <td>Sales Division</td>\n",
       "      <td>34</td>\n",
       "      <td>6000000</td>\n",
       "      <td>8</td>\n",
       "      <td>2</td>\n",
       "      <td>0</td>\n",
       "      <td>1</td>\n",
       "    </tr>\n",
       "  </tbody>\n",
       "</table>\n",
       "</div>"
      ],
      "text/plain": [
       "3  ID      Department  Age  Salary (JPY / yr)  Years_of_Service  \\\n",
       "4   1  Sales Division   21            5000000                 1   \n",
       "5   2  Sales Division   24            5200000                 3   \n",
       "6   3  Sales Division   26            5300000                 2   \n",
       "7   4  Sales Division   30            5600000                 6   \n",
       "8   5  Sales Division   34            6000000                 8   \n",
       "\n",
       "3  Job_Satisfaction  Is_Promoted  Is_Left  \n",
       "4                 3            0        0  \n",
       "5                 2            0        1  \n",
       "6                 3            0        0  \n",
       "7                 4            1        0  \n",
       "8                 2            0        1  "
      ]
     },
     "execution_count": 13,
     "metadata": {},
     "output_type": "execute_result"
    }
   ],
   "source": [
    "df.head()"
   ]
  },
  {
   "cell_type": "markdown",
   "metadata": {
    "id": "l7Kjtwjlsh2O"
   },
   "source": [
    "データ分析"
   ]
  },
  {
   "cell_type": "code",
   "execution_count": 14,
   "metadata": {
    "colab": {
     "base_uri": "https://localhost:8080/",
     "height": 199
    },
    "id": "G6q-eE6-nkal",
    "outputId": "09bf2557-3123-4c44-c5d0-c2625775b31a",
    "scrolled": true
   },
   "outputs": [
    {
     "data": {
      "text/html": [
       "<div>\n",
       "<style scoped>\n",
       "    .dataframe tbody tr th:only-of-type {\n",
       "        vertical-align: middle;\n",
       "    }\n",
       "\n",
       "    .dataframe tbody tr th {\n",
       "        vertical-align: top;\n",
       "    }\n",
       "\n",
       "    .dataframe thead th {\n",
       "        text-align: right;\n",
       "    }\n",
       "</style>\n",
       "<table border=\"1\" class=\"dataframe\">\n",
       "  <thead>\n",
       "    <tr style=\"text-align: right;\">\n",
       "      <th>3</th>\n",
       "      <th>ID</th>\n",
       "      <th>Age</th>\n",
       "      <th>Salary (JPY / yr)</th>\n",
       "      <th>Years_of_Service</th>\n",
       "      <th>Job_Satisfaction</th>\n",
       "      <th>Is_Promoted</th>\n",
       "    </tr>\n",
       "    <tr>\n",
       "      <th>Is_Left</th>\n",
       "      <th></th>\n",
       "      <th></th>\n",
       "      <th></th>\n",
       "      <th></th>\n",
       "      <th></th>\n",
       "      <th></th>\n",
       "    </tr>\n",
       "  </thead>\n",
       "  <tbody>\n",
       "    <tr>\n",
       "      <th>0</th>\n",
       "      <td>106.130952</td>\n",
       "      <td>37.077381</td>\n",
       "      <td>6.718452e+06</td>\n",
       "      <td>8.392857</td>\n",
       "      <td>3.809524</td>\n",
       "      <td>0.386905</td>\n",
       "    </tr>\n",
       "    <tr>\n",
       "      <th>1</th>\n",
       "      <td>70.937500</td>\n",
       "      <td>34.375000</td>\n",
       "      <td>6.440625e+06</td>\n",
       "      <td>6.875000</td>\n",
       "      <td>2.125000</td>\n",
       "      <td>0.500000</td>\n",
       "    </tr>\n",
       "  </tbody>\n",
       "</table>\n",
       "</div>"
      ],
      "text/plain": [
       "3                ID        Age  Salary (JPY / yr)  Years_of_Service  \\\n",
       "Is_Left                                                               \n",
       "0        106.130952  37.077381       6.718452e+06          8.392857   \n",
       "1         70.937500  34.375000       6.440625e+06          6.875000   \n",
       "\n",
       "3        Job_Satisfaction  Is_Promoted  \n",
       "Is_Left                                 \n",
       "0                3.809524     0.386905  \n",
       "1                2.125000     0.500000  "
      ]
     },
     "execution_count": 14,
     "metadata": {},
     "output_type": "execute_result"
    }
   ],
   "source": [
    "Is_Left = df.groupby('Is_Left')\n",
    "Is_Left.mean(numeric_only=True)"
   ]
  },
  {
   "cell_type": "markdown",
   "metadata": {
    "id": "e5JZuizKq8sl"
   },
   "source": [
    "ここで解釈できるのは、会社を辞めた従業員は、会社に残った従業員に比べて満足度が低く、給与も低い事がわかります。ですが、意外な事に昇進するのが多いのは会社を辞めた人の方です。"
   ]
  },
  {
   "cell_type": "code",
   "execution_count": 15,
   "metadata": {
    "colab": {
     "base_uri": "https://localhost:8080/",
     "height": 300
    },
    "id": "602xkjtOnkyK",
    "outputId": "6c74c1aa-1dc3-46fa-b04b-bc4afea6cb50"
   },
   "outputs": [
    {
     "data": {
      "text/html": [
       "<div>\n",
       "<style scoped>\n",
       "    .dataframe tbody tr th:only-of-type {\n",
       "        vertical-align: middle;\n",
       "    }\n",
       "\n",
       "    .dataframe tbody tr th {\n",
       "        vertical-align: top;\n",
       "    }\n",
       "\n",
       "    .dataframe thead th {\n",
       "        text-align: right;\n",
       "    }\n",
       "</style>\n",
       "<table border=\"1\" class=\"dataframe\">\n",
       "  <thead>\n",
       "    <tr style=\"text-align: right;\">\n",
       "      <th>3</th>\n",
       "      <th>ID</th>\n",
       "      <th>Age</th>\n",
       "      <th>Salary (JPY / yr)</th>\n",
       "      <th>Years_of_Service</th>\n",
       "      <th>Job_Satisfaction</th>\n",
       "      <th>Is_Promoted</th>\n",
       "      <th>Is_Left</th>\n",
       "    </tr>\n",
       "  </thead>\n",
       "  <tbody>\n",
       "    <tr>\n",
       "      <th>count</th>\n",
       "      <td>200.000000</td>\n",
       "      <td>200.000000</td>\n",
       "      <td>2.000000e+02</td>\n",
       "      <td>200.000000</td>\n",
       "      <td>200.000000</td>\n",
       "      <td>200.000000</td>\n",
       "      <td>200.000000</td>\n",
       "    </tr>\n",
       "    <tr>\n",
       "      <th>mean</th>\n",
       "      <td>100.500000</td>\n",
       "      <td>36.645000</td>\n",
       "      <td>6.674000e+06</td>\n",
       "      <td>8.150000</td>\n",
       "      <td>3.540000</td>\n",
       "      <td>0.405000</td>\n",
       "      <td>0.160000</td>\n",
       "    </tr>\n",
       "    <tr>\n",
       "      <th>std</th>\n",
       "      <td>57.879185</td>\n",
       "      <td>6.056599</td>\n",
       "      <td>7.920611e+05</td>\n",
       "      <td>4.749769</td>\n",
       "      <td>0.944915</td>\n",
       "      <td>0.492124</td>\n",
       "      <td>0.367526</td>\n",
       "    </tr>\n",
       "    <tr>\n",
       "      <th>min</th>\n",
       "      <td>1.000000</td>\n",
       "      <td>21.000000</td>\n",
       "      <td>5.000000e+06</td>\n",
       "      <td>1.000000</td>\n",
       "      <td>2.000000</td>\n",
       "      <td>0.000000</td>\n",
       "      <td>0.000000</td>\n",
       "    </tr>\n",
       "    <tr>\n",
       "      <th>25%</th>\n",
       "      <td>50.750000</td>\n",
       "      <td>32.000000</td>\n",
       "      <td>6.100000e+06</td>\n",
       "      <td>4.000000</td>\n",
       "      <td>3.000000</td>\n",
       "      <td>0.000000</td>\n",
       "      <td>0.000000</td>\n",
       "    </tr>\n",
       "    <tr>\n",
       "      <th>50%</th>\n",
       "      <td>100.500000</td>\n",
       "      <td>37.000000</td>\n",
       "      <td>6.850000e+06</td>\n",
       "      <td>7.500000</td>\n",
       "      <td>4.000000</td>\n",
       "      <td>0.000000</td>\n",
       "      <td>0.000000</td>\n",
       "    </tr>\n",
       "    <tr>\n",
       "      <th>75%</th>\n",
       "      <td>150.250000</td>\n",
       "      <td>41.000000</td>\n",
       "      <td>7.300000e+06</td>\n",
       "      <td>12.000000</td>\n",
       "      <td>4.000000</td>\n",
       "      <td>1.000000</td>\n",
       "      <td>0.000000</td>\n",
       "    </tr>\n",
       "    <tr>\n",
       "      <th>max</th>\n",
       "      <td>200.000000</td>\n",
       "      <td>49.000000</td>\n",
       "      <td>8.100000e+06</td>\n",
       "      <td>19.000000</td>\n",
       "      <td>5.000000</td>\n",
       "      <td>1.000000</td>\n",
       "      <td>1.000000</td>\n",
       "    </tr>\n",
       "  </tbody>\n",
       "</table>\n",
       "</div>"
      ],
      "text/plain": [
       "3              ID         Age  Salary (JPY / yr)  Years_of_Service  \\\n",
       "count  200.000000  200.000000       2.000000e+02        200.000000   \n",
       "mean   100.500000   36.645000       6.674000e+06          8.150000   \n",
       "std     57.879185    6.056599       7.920611e+05          4.749769   \n",
       "min      1.000000   21.000000       5.000000e+06          1.000000   \n",
       "25%     50.750000   32.000000       6.100000e+06          4.000000   \n",
       "50%    100.500000   37.000000       6.850000e+06          7.500000   \n",
       "75%    150.250000   41.000000       7.300000e+06         12.000000   \n",
       "max    200.000000   49.000000       8.100000e+06         19.000000   \n",
       "\n",
       "3      Job_Satisfaction  Is_Promoted     Is_Left  \n",
       "count        200.000000   200.000000  200.000000  \n",
       "mean           3.540000     0.405000    0.160000  \n",
       "std            0.944915     0.492124    0.367526  \n",
       "min            2.000000     0.000000    0.000000  \n",
       "25%            3.000000     0.000000    0.000000  \n",
       "50%            4.000000     0.000000    0.000000  \n",
       "75%            4.000000     1.000000    0.000000  \n",
       "max            5.000000     1.000000    1.000000  "
      ]
     },
     "execution_count": 15,
     "metadata": {},
     "output_type": "execute_result"
    }
   ],
   "source": [
    "df.describe()"
   ]
  },
  {
   "cell_type": "markdown",
   "metadata": {
    "id": "AqhikiQDw9hd"
   },
   "source": [
    "ここで解釈できるのは、辞めた従業員は、平均的な仕事の満足度を極対に下げてしまっている事が分かります。逆に言えば、退職者の満足度を上げる事ができれば、会社全体の平均勤続数が伸び、昇進する優秀な社員を引き留めに成功していると言えます。"
   ]
  },
  {
   "cell_type": "markdown",
   "metadata": {
    "id": "H1EgCCVds3lP"
   },
   "source": [
    "データの視覚化"
   ]
  },
  {
   "cell_type": "code",
   "execution_count": 16,
   "metadata": {
    "colab": {
     "base_uri": "https://localhost:8080/",
     "height": 450
    },
    "id": "a9gIKPi4nk3X",
    "outputId": "22e5623d-c47e-497d-aab8-f5acfe000b04"
   },
   "outputs": [
    {
     "data": {
      "image/png": "[encoded data removed]",
      "text/plain": [
       "<Figure size 640x480 with 1 Axes>"
      ]
     },
     "metadata": {},
     "output_type": "display_data"
    }
   ],
   "source": [
    "Is_Left_count= df.groupby('Is_Left').count()\n",
    "label = [\"not_left\", \"left\"]\n",
    "plt.bar(Is_Left_count.index.values, Is_Left_count['Job_Satisfaction'], tick_label = label)\n",
    "plt.xlabel('Employees Left Company')\n",
    "plt.ylabel('Number of Employees')\n",
    "plt.show()"
   ]
  },
  {
   "cell_type": "code",
   "execution_count": 17,
   "metadata": {
    "colab": {
     "base_uri": "https://localhost:8080/"
    },
    "id": "eWtSb2Kunk8g",
    "outputId": "1fda6927-e643-4dd2-b916-3c3e30cd529f"
   },
   "outputs": [
    {
     "data": {
      "text/plain": [
       "0    168\n",
       "1     32\n",
       "Name: Is_Left, dtype: int64"
      ]
     },
     "execution_count": 17,
     "metadata": {},
     "output_type": "execute_result"
    }
   ],
   "source": [
    "df.Is_Left.value_counts()"
   ]
  },
  {
   "cell_type": "code",
   "execution_count": 28,
   "metadata": {
    "colab": {
     "base_uri": "https://localhost:8080/",
     "height": 978
    },
    "id": "W2fUkcRUnlA5",
    "outputId": "6ce0a1df-f311-4032-eb1c-403e357cfc2c",
    "scrolled": true
   },
   "outputs": [
    {
     "data": {
      "image/png": "[encoded data removed]",
      "text/plain": [
       "<Figure size 1000x1500 with 6 Axes>"
      ]
     },
     "metadata": {},
     "output_type": "display_data"
    }
   ],
   "source": [
    "features=['Age','Salary (JPY / yr)','Years_of_Service','Job_Satisfaction', 'Is_Promoted','Is_Left']\n",
    "fig =plt.subplots(figsize=(10,15))\n",
    "for i, j in enumerate(features):\n",
    "    plt.subplot(3, 2, i+1)\n",
    "    plt.subplots_adjust(hspace = 1.0)\n",
    "    sns.countplot(x=j,data = df)\n",
    "    plt.xticks(rotation=90)\n",
    "    plt.title(\"No. of employee\")"
   ]
  },
  {
   "cell_type": "code",
   "execution_count": 29,
   "metadata": {
    "colab": {
     "base_uri": "https://localhost:8080/",
     "height": 978
    },
    "id": "JSCYupC4nlEn",
    "outputId": "b1357a8b-96c2-4ec7-96fc-d23e9e422904",
    "scrolled": true
   },
   "outputs": [
    {
     "data": {
      "image/png": "[encoded data removed]",
      "text/plain": [
       "<Figure size 1000x1500 with 6 Axes>"
      ]
     },
     "metadata": {},
     "output_type": "display_data"
    }
   ],
   "source": [
    "fig=plt.subplots(figsize=(10,15))\n",
    "for i, j in enumerate(features):\n",
    "    plt.subplot(3, 2, i+1)\n",
    "    plt.subplots_adjust(hspace = 1.0)\n",
    "    sns.countplot(x=j,data = df, hue='Is_Left')\n",
    "    plt.xticks(rotation=90)\n",
    "    plt.title(\"No. of employee\")"
   ]
  },
  {
   "cell_type": "markdown",
   "metadata": {
    "id": "oP1U4mMl2h-J"
   },
   "source": [
    "上記の視覚化では、次の点がわかります。\n",
    "\n",
    "辞める人の傾向に３パターンある。若年層、中年層、高年層である。仕事を辞める人は平均勤続年数が１２年未満の人になる。逆に言えば、１２年以上勤務をしている人は統計的にみて、辞める確率が非常に低く、現状に満足しているといえる。\n",
    "\n",
    "若年層は年収約５２０万円で２３才〜２５才の層\n",
    "中年層は年収約６２０万円で３４才〜３５才の層\n",
    "高年層は年収約７５０万円で３８才〜４２才の層\n",
    "\n",
    "仕事の満足度に２評価をつけている人には注意が必要である。若干数評価に４をつけている人も退職する事がある。\n",
    "\n",
    "これの解決策といって、昇進をさせれば確実に会社に残ってくれるというわけではないが、相対的にグラフを見ると、残ってくれる確率が高くなる。\n",
    "\n",
    "このデータ分析を踏まえた上で従業員の満足度を向上させるための提案というのは、仕事の満足度に最低評価の２をつけている社員に対し、ヒヤリングを実施する。\n",
    "\n",
    "その社員が、辞める傾向の強い若年層、中年層、高年層グループに入る場合、昇進、もしくは給与の増幅を検討すべきである。若年層、中年層、高年層の全てに置いて、４０万円の年収を増幅した場合、その年収グループで退社した人がいない事がわかる。社員の満足度に向上にしている事がわかる。\n",
    "\n"
   ]
  }
 ],
 "metadata": {
  "colab": {
   "provenance": []
  },
  "kernelspec": {
   "display_name": "Python 3 (ipykernel)",
   "language": "python",
   "name": "python3"
  },
  "language_info": {
   "codemirror_mode": {
    "name": "ipython",
    "version": 3
   },
   "file_extension": ".py",
   "mimetype": "text/x-python",
   "name": "python",
   "nbconvert_exporter": "python",
   "pygments_lexer": "ipython3",
   "version": "3.10.9"
  }
 },
 "nbformat": 4,
 "nbformat_minor": 1
}
